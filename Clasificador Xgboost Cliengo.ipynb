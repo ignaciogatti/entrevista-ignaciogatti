{
 "cells": [
  {
   "cell_type": "markdown",
   "metadata": {},
   "source": [
    "# Clasificador Xgboost CLiengo"
   ]
  },
  {
   "cell_type": "markdown",
   "metadata": {},
   "source": [
    "En esta notebook se desarrolla un modelo de clasificador (utilizando la librería **XGBoost**) cuyo objetivo es predecir si una *review* es **buena** o **mala**"
   ]
  },
  {
   "cell_type": "markdown",
   "metadata": {},
   "source": [
    "## Lectura de datos"
   ]
  },
  {
   "cell_type": "markdown",
   "metadata": {},
   "source": [
    "Teniendo en cuenta lo realizado en notebook **EDA**, donde se realizó un análisis exploratorio de los datos, se tomará la versión del dataset preprocesado en dicha notebook.Básicamente, allí se realizarón las siguientes tareas de limpieza de texto:\n",
    "\n",
    "* Conversión del  texto a minúscula\n",
    "* Eliminación de **stopwords**\n",
    "* Eliminación de los signos de puntuación\n",
    "* Eliminación de **stopwords del dominio**\n",
    "* Lematización de los términos"
   ]
  },
  {
   "cell_type": "code",
   "execution_count": 1,
   "metadata": {},
   "outputs": [],
   "source": [
    "import pandas as pd\n",
    "import numpy as np"
   ]
  },
  {
   "cell_type": "code",
   "execution_count": 2,
   "metadata": {},
   "outputs": [
    {
     "data": {
      "text/html": [
       "<div>\n",
       "<style scoped>\n",
       "    .dataframe tbody tr th:only-of-type {\n",
       "        vertical-align: middle;\n",
       "    }\n",
       "\n",
       "    .dataframe tbody tr th {\n",
       "        vertical-align: top;\n",
       "    }\n",
       "\n",
       "    .dataframe thead th {\n",
       "        text-align: right;\n",
       "    }\n",
       "</style>\n",
       "<table border=\"1\" class=\"dataframe\">\n",
       "  <thead>\n",
       "    <tr style=\"text-align: right;\">\n",
       "      <th></th>\n",
       "      <th>review</th>\n",
       "      <th>score</th>\n",
       "      <th>review cleaned</th>\n",
       "      <th>reviews_length</th>\n",
       "      <th>number_of_words</th>\n",
       "      <th>reviews_avg_length</th>\n",
       "      <th>review cleaned stopwords</th>\n",
       "      <th>lemmatized</th>\n",
       "    </tr>\n",
       "  </thead>\n",
       "  <tbody>\n",
       "    <tr>\n",
       "      <th>0</th>\n",
       "      <td>Era necesario mucho coraje para abordar aconte...</td>\n",
       "      <td>buena</td>\n",
       "      <td>era necesario mucho coraje para abordar aconte...</td>\n",
       "      <td>3812</td>\n",
       "      <td>649</td>\n",
       "      <td>4.873652</td>\n",
       "      <td>era necesario mucho coraje para abordar aconte...</td>\n",
       "      <td>necesario coraje abordar acontecimiento recien...</td>\n",
       "    </tr>\n",
       "    <tr>\n",
       "      <th>1</th>\n",
       "      <td>Esperaba con curiosidad y ciertas ganas el est...</td>\n",
       "      <td>mala</td>\n",
       "      <td>esperaba con curiosidad y ciertas ganas el est...</td>\n",
       "      <td>2259</td>\n",
       "      <td>405</td>\n",
       "      <td>4.577778</td>\n",
       "      <td>esperaba con curiosidad y ciertas ganas el est...</td>\n",
       "      <td>esperar curiosidad y gana estreno antonio band...</td>\n",
       "    </tr>\n",
       "    <tr>\n",
       "      <th>2</th>\n",
       "      <td>Wes Craven, convertido en factoría, nos vuelve...</td>\n",
       "      <td>mala</td>\n",
       "      <td>wes craven convertido en factoría nos vuelve a...</td>\n",
       "      <td>1816</td>\n",
       "      <td>317</td>\n",
       "      <td>4.728707</td>\n",
       "      <td>wes craven convertido en factoría nos vuelve a...</td>\n",
       "      <td>wes cravir convertido factoría volver a contar...</td>\n",
       "    </tr>\n",
       "    <tr>\n",
       "      <th>3</th>\n",
       "      <td>Va la gente y se rasga las vestiduras con 'Caó...</td>\n",
       "      <td>mala</td>\n",
       "      <td>va la gente y se rasga las vestiduras con caót...</td>\n",
       "      <td>3598</td>\n",
       "      <td>624</td>\n",
       "      <td>4.766026</td>\n",
       "      <td>va la gente y se rasga las vestiduras con caót...</td>\n",
       "      <td>gente y rasgar vestidura caótico án julio mede...</td>\n",
       "    </tr>\n",
       "    <tr>\n",
       "      <th>4</th>\n",
       "      <td>Director: Mariano Ozores.Duración: 77 minutos....</td>\n",
       "      <td>buena</td>\n",
       "      <td>director mariano ozoresduración 77 minutosestr...</td>\n",
       "      <td>2271</td>\n",
       "      <td>395</td>\n",
       "      <td>4.749367</td>\n",
       "      <td>mariano ozoresduración  minutosestreno  de dic...</td>\n",
       "      <td>mariano ozoresduración   minutosestreno   dici...</td>\n",
       "    </tr>\n",
       "  </tbody>\n",
       "</table>\n",
       "</div>"
      ],
      "text/plain": [
       "                                              review  score  \\\n",
       "0  Era necesario mucho coraje para abordar aconte...  buena   \n",
       "1  Esperaba con curiosidad y ciertas ganas el est...   mala   \n",
       "2  Wes Craven, convertido en factoría, nos vuelve...   mala   \n",
       "3  Va la gente y se rasga las vestiduras con 'Caó...   mala   \n",
       "4  Director: Mariano Ozores.Duración: 77 minutos....  buena   \n",
       "\n",
       "                                      review cleaned  reviews_length  \\\n",
       "0  era necesario mucho coraje para abordar aconte...            3812   \n",
       "1  esperaba con curiosidad y ciertas ganas el est...            2259   \n",
       "2  wes craven convertido en factoría nos vuelve a...            1816   \n",
       "3  va la gente y se rasga las vestiduras con caót...            3598   \n",
       "4  director mariano ozoresduración 77 minutosestr...            2271   \n",
       "\n",
       "   number_of_words  reviews_avg_length  \\\n",
       "0              649            4.873652   \n",
       "1              405            4.577778   \n",
       "2              317            4.728707   \n",
       "3              624            4.766026   \n",
       "4              395            4.749367   \n",
       "\n",
       "                            review cleaned stopwords  \\\n",
       "0  era necesario mucho coraje para abordar aconte...   \n",
       "1  esperaba con curiosidad y ciertas ganas el est...   \n",
       "2  wes craven convertido en factoría nos vuelve a...   \n",
       "3  va la gente y se rasga las vestiduras con caót...   \n",
       "4  mariano ozoresduración  minutosestreno  de dic...   \n",
       "\n",
       "                                          lemmatized  \n",
       "0  necesario coraje abordar acontecimiento recien...  \n",
       "1  esperar curiosidad y gana estreno antonio band...  \n",
       "2  wes cravir convertido factoría volver a contar...  \n",
       "3  gente y rasgar vestidura caótico án julio mede...  \n",
       "4  mariano ozoresduración   minutosestreno   dici...  "
      ]
     },
     "execution_count": 2,
     "metadata": {},
     "output_type": "execute_result"
    }
   ],
   "source": [
    "df_dataset = pd.read_csv('training_data_preprocessed.csv')\n",
    "df_dataset.head()"
   ]
  },
  {
   "cell_type": "markdown",
   "metadata": {},
   "source": [
    "## Generación de *features*"
   ]
  },
  {
   "cell_type": "markdown",
   "metadata": {},
   "source": [
    "Para la generación de ***features*** se utilizará la matriz de ***Document Term Matrix*** "
   ]
  },
  {
   "cell_type": "code",
   "execution_count": 3,
   "metadata": {},
   "outputs": [
    {
     "data": {
      "text/html": [
       "<div>\n",
       "<style scoped>\n",
       "    .dataframe tbody tr th:only-of-type {\n",
       "        vertical-align: middle;\n",
       "    }\n",
       "\n",
       "    .dataframe tbody tr th {\n",
       "        vertical-align: top;\n",
       "    }\n",
       "\n",
       "    .dataframe thead th {\n",
       "        text-align: right;\n",
       "    }\n",
       "</style>\n",
       "<table border=\"1\" class=\"dataframe\">\n",
       "  <thead>\n",
       "    <tr style=\"text-align: right;\">\n",
       "      <th></th>\n",
       "      <th>aa</th>\n",
       "      <th>aa luz</th>\n",
       "      <th>aar</th>\n",
       "      <th>aar eckhart</th>\n",
       "      <th>aar eckhartir</th>\n",
       "      <th>abadés</th>\n",
       "      <th>abadés imaginar</th>\n",
       "      <th>abajo</th>\n",
       "      <th>abajo barriga</th>\n",
       "      <th>abajo casa</th>\n",
       "      <th>...</th>\n",
       "      <th>útil</th>\n",
       "      <th>útil absurdo</th>\n",
       "      <th>útil exposición</th>\n",
       "      <th>útil humanidad</th>\n",
       "      <th>útil osear</th>\n",
       "      <th>útil permanente</th>\n",
       "      <th>útimo</th>\n",
       "      <th>útimo moda</th>\n",
       "      <th>útlimo</th>\n",
       "      <th>útlimo década</th>\n",
       "    </tr>\n",
       "  </thead>\n",
       "  <tbody>\n",
       "    <tr>\n",
       "      <th>0</th>\n",
       "      <td>0.0</td>\n",
       "      <td>0.0</td>\n",
       "      <td>0.0</td>\n",
       "      <td>0.0</td>\n",
       "      <td>0.0</td>\n",
       "      <td>0.0</td>\n",
       "      <td>0.0</td>\n",
       "      <td>0.0</td>\n",
       "      <td>0.0</td>\n",
       "      <td>0.0</td>\n",
       "      <td>...</td>\n",
       "      <td>0.0</td>\n",
       "      <td>0.0</td>\n",
       "      <td>0.0</td>\n",
       "      <td>0.0</td>\n",
       "      <td>0.0</td>\n",
       "      <td>0.0</td>\n",
       "      <td>0.0</td>\n",
       "      <td>0.0</td>\n",
       "      <td>0.0</td>\n",
       "      <td>0.0</td>\n",
       "    </tr>\n",
       "    <tr>\n",
       "      <th>1</th>\n",
       "      <td>0.0</td>\n",
       "      <td>0.0</td>\n",
       "      <td>0.0</td>\n",
       "      <td>0.0</td>\n",
       "      <td>0.0</td>\n",
       "      <td>0.0</td>\n",
       "      <td>0.0</td>\n",
       "      <td>0.0</td>\n",
       "      <td>0.0</td>\n",
       "      <td>0.0</td>\n",
       "      <td>...</td>\n",
       "      <td>0.0</td>\n",
       "      <td>0.0</td>\n",
       "      <td>0.0</td>\n",
       "      <td>0.0</td>\n",
       "      <td>0.0</td>\n",
       "      <td>0.0</td>\n",
       "      <td>0.0</td>\n",
       "      <td>0.0</td>\n",
       "      <td>0.0</td>\n",
       "      <td>0.0</td>\n",
       "    </tr>\n",
       "    <tr>\n",
       "      <th>2</th>\n",
       "      <td>0.0</td>\n",
       "      <td>0.0</td>\n",
       "      <td>0.0</td>\n",
       "      <td>0.0</td>\n",
       "      <td>0.0</td>\n",
       "      <td>0.0</td>\n",
       "      <td>0.0</td>\n",
       "      <td>0.0</td>\n",
       "      <td>0.0</td>\n",
       "      <td>0.0</td>\n",
       "      <td>...</td>\n",
       "      <td>0.0</td>\n",
       "      <td>0.0</td>\n",
       "      <td>0.0</td>\n",
       "      <td>0.0</td>\n",
       "      <td>0.0</td>\n",
       "      <td>0.0</td>\n",
       "      <td>0.0</td>\n",
       "      <td>0.0</td>\n",
       "      <td>0.0</td>\n",
       "      <td>0.0</td>\n",
       "    </tr>\n",
       "    <tr>\n",
       "      <th>3</th>\n",
       "      <td>0.0</td>\n",
       "      <td>0.0</td>\n",
       "      <td>0.0</td>\n",
       "      <td>0.0</td>\n",
       "      <td>0.0</td>\n",
       "      <td>0.0</td>\n",
       "      <td>0.0</td>\n",
       "      <td>0.0</td>\n",
       "      <td>0.0</td>\n",
       "      <td>0.0</td>\n",
       "      <td>...</td>\n",
       "      <td>0.0</td>\n",
       "      <td>0.0</td>\n",
       "      <td>0.0</td>\n",
       "      <td>0.0</td>\n",
       "      <td>0.0</td>\n",
       "      <td>0.0</td>\n",
       "      <td>0.0</td>\n",
       "      <td>0.0</td>\n",
       "      <td>0.0</td>\n",
       "      <td>0.0</td>\n",
       "    </tr>\n",
       "    <tr>\n",
       "      <th>4</th>\n",
       "      <td>0.0</td>\n",
       "      <td>0.0</td>\n",
       "      <td>0.0</td>\n",
       "      <td>0.0</td>\n",
       "      <td>0.0</td>\n",
       "      <td>0.0</td>\n",
       "      <td>0.0</td>\n",
       "      <td>0.0</td>\n",
       "      <td>0.0</td>\n",
       "      <td>0.0</td>\n",
       "      <td>...</td>\n",
       "      <td>0.0</td>\n",
       "      <td>0.0</td>\n",
       "      <td>0.0</td>\n",
       "      <td>0.0</td>\n",
       "      <td>0.0</td>\n",
       "      <td>0.0</td>\n",
       "      <td>0.0</td>\n",
       "      <td>0.0</td>\n",
       "      <td>0.0</td>\n",
       "      <td>0.0</td>\n",
       "    </tr>\n",
       "  </tbody>\n",
       "</table>\n",
       "<p>5 rows × 180004 columns</p>\n",
       "</div>"
      ],
      "text/plain": [
       "    aa  aa luz  aar  aar eckhart  aar eckhartir  abadés  abadés imaginar  \\\n",
       "0  0.0     0.0  0.0          0.0            0.0     0.0              0.0   \n",
       "1  0.0     0.0  0.0          0.0            0.0     0.0              0.0   \n",
       "2  0.0     0.0  0.0          0.0            0.0     0.0              0.0   \n",
       "3  0.0     0.0  0.0          0.0            0.0     0.0              0.0   \n",
       "4  0.0     0.0  0.0          0.0            0.0     0.0              0.0   \n",
       "\n",
       "   abajo  abajo barriga  abajo casa      ...        útil  útil absurdo  \\\n",
       "0    0.0            0.0         0.0      ...         0.0           0.0   \n",
       "1    0.0            0.0         0.0      ...         0.0           0.0   \n",
       "2    0.0            0.0         0.0      ...         0.0           0.0   \n",
       "3    0.0            0.0         0.0      ...         0.0           0.0   \n",
       "4    0.0            0.0         0.0      ...         0.0           0.0   \n",
       "\n",
       "   útil exposición  útil humanidad  útil osear  útil permanente  útimo  \\\n",
       "0              0.0             0.0         0.0              0.0    0.0   \n",
       "1              0.0             0.0         0.0              0.0    0.0   \n",
       "2              0.0             0.0         0.0              0.0    0.0   \n",
       "3              0.0             0.0         0.0              0.0    0.0   \n",
       "4              0.0             0.0         0.0              0.0    0.0   \n",
       "\n",
       "   útimo moda  útlimo  útlimo década  \n",
       "0         0.0     0.0            0.0  \n",
       "1         0.0     0.0            0.0  \n",
       "2         0.0     0.0            0.0  \n",
       "3         0.0     0.0            0.0  \n",
       "4         0.0     0.0            0.0  \n",
       "\n",
       "[5 rows x 180004 columns]"
      ]
     },
     "execution_count": 3,
     "metadata": {},
     "output_type": "execute_result"
    }
   ],
   "source": [
    "from sklearn.feature_extraction.text import CountVectorizer, TfidfVectorizer\n",
    "\n",
    "cv = TfidfVectorizer(analyzer='word', ngram_range=(1,2))\n",
    "data = cv.fit_transform(df_dataset['lemmatized'])\n",
    "df_dtm = pd.DataFrame(data.toarray(), columns=cv.get_feature_names())\n",
    "df_dtm.index = df_dataset.index\n",
    "df_dtm.head()"
   ]
  },
  {
   "cell_type": "markdown",
   "metadata": {},
   "source": [
    "Una vez generados los ***features*** se procesan las etiquetas **buena** y **mala** para que sirvan de entrada al clasificador."
   ]
  },
  {
   "cell_type": "code",
   "execution_count": 4,
   "metadata": {},
   "outputs": [
    {
     "data": {
      "text/html": [
       "<div>\n",
       "<style scoped>\n",
       "    .dataframe tbody tr th:only-of-type {\n",
       "        vertical-align: middle;\n",
       "    }\n",
       "\n",
       "    .dataframe tbody tr th {\n",
       "        vertical-align: top;\n",
       "    }\n",
       "\n",
       "    .dataframe thead th {\n",
       "        text-align: right;\n",
       "    }\n",
       "</style>\n",
       "<table border=\"1\" class=\"dataframe\">\n",
       "  <thead>\n",
       "    <tr style=\"text-align: right;\">\n",
       "      <th></th>\n",
       "      <th>review</th>\n",
       "      <th>score</th>\n",
       "      <th>review cleaned</th>\n",
       "      <th>reviews_length</th>\n",
       "      <th>number_of_words</th>\n",
       "      <th>reviews_avg_length</th>\n",
       "      <th>review cleaned stopwords</th>\n",
       "      <th>lemmatized</th>\n",
       "      <th>label</th>\n",
       "    </tr>\n",
       "  </thead>\n",
       "  <tbody>\n",
       "    <tr>\n",
       "      <th>0</th>\n",
       "      <td>Era necesario mucho coraje para abordar aconte...</td>\n",
       "      <td>buena</td>\n",
       "      <td>era necesario mucho coraje para abordar aconte...</td>\n",
       "      <td>3812</td>\n",
       "      <td>649</td>\n",
       "      <td>4.873652</td>\n",
       "      <td>era necesario mucho coraje para abordar aconte...</td>\n",
       "      <td>necesario coraje abordar acontecimiento recien...</td>\n",
       "      <td>1</td>\n",
       "    </tr>\n",
       "    <tr>\n",
       "      <th>1</th>\n",
       "      <td>Esperaba con curiosidad y ciertas ganas el est...</td>\n",
       "      <td>mala</td>\n",
       "      <td>esperaba con curiosidad y ciertas ganas el est...</td>\n",
       "      <td>2259</td>\n",
       "      <td>405</td>\n",
       "      <td>4.577778</td>\n",
       "      <td>esperaba con curiosidad y ciertas ganas el est...</td>\n",
       "      <td>esperar curiosidad y gana estreno antonio band...</td>\n",
       "      <td>0</td>\n",
       "    </tr>\n",
       "    <tr>\n",
       "      <th>2</th>\n",
       "      <td>Wes Craven, convertido en factoría, nos vuelve...</td>\n",
       "      <td>mala</td>\n",
       "      <td>wes craven convertido en factoría nos vuelve a...</td>\n",
       "      <td>1816</td>\n",
       "      <td>317</td>\n",
       "      <td>4.728707</td>\n",
       "      <td>wes craven convertido en factoría nos vuelve a...</td>\n",
       "      <td>wes cravir convertido factoría volver a contar...</td>\n",
       "      <td>0</td>\n",
       "    </tr>\n",
       "    <tr>\n",
       "      <th>3</th>\n",
       "      <td>Va la gente y se rasga las vestiduras con 'Caó...</td>\n",
       "      <td>mala</td>\n",
       "      <td>va la gente y se rasga las vestiduras con caót...</td>\n",
       "      <td>3598</td>\n",
       "      <td>624</td>\n",
       "      <td>4.766026</td>\n",
       "      <td>va la gente y se rasga las vestiduras con caót...</td>\n",
       "      <td>gente y rasgar vestidura caótico án julio mede...</td>\n",
       "      <td>0</td>\n",
       "    </tr>\n",
       "    <tr>\n",
       "      <th>4</th>\n",
       "      <td>Director: Mariano Ozores.Duración: 77 minutos....</td>\n",
       "      <td>buena</td>\n",
       "      <td>director mariano ozoresduración 77 minutosestr...</td>\n",
       "      <td>2271</td>\n",
       "      <td>395</td>\n",
       "      <td>4.749367</td>\n",
       "      <td>mariano ozoresduración  minutosestreno  de dic...</td>\n",
       "      <td>mariano ozoresduración   minutosestreno   dici...</td>\n",
       "      <td>1</td>\n",
       "    </tr>\n",
       "  </tbody>\n",
       "</table>\n",
       "</div>"
      ],
      "text/plain": [
       "                                              review  score  \\\n",
       "0  Era necesario mucho coraje para abordar aconte...  buena   \n",
       "1  Esperaba con curiosidad y ciertas ganas el est...   mala   \n",
       "2  Wes Craven, convertido en factoría, nos vuelve...   mala   \n",
       "3  Va la gente y se rasga las vestiduras con 'Caó...   mala   \n",
       "4  Director: Mariano Ozores.Duración: 77 minutos....  buena   \n",
       "\n",
       "                                      review cleaned  reviews_length  \\\n",
       "0  era necesario mucho coraje para abordar aconte...            3812   \n",
       "1  esperaba con curiosidad y ciertas ganas el est...            2259   \n",
       "2  wes craven convertido en factoría nos vuelve a...            1816   \n",
       "3  va la gente y se rasga las vestiduras con caót...            3598   \n",
       "4  director mariano ozoresduración 77 minutosestr...            2271   \n",
       "\n",
       "   number_of_words  reviews_avg_length  \\\n",
       "0              649            4.873652   \n",
       "1              405            4.577778   \n",
       "2              317            4.728707   \n",
       "3              624            4.766026   \n",
       "4              395            4.749367   \n",
       "\n",
       "                            review cleaned stopwords  \\\n",
       "0  era necesario mucho coraje para abordar aconte...   \n",
       "1  esperaba con curiosidad y ciertas ganas el est...   \n",
       "2  wes craven convertido en factoría nos vuelve a...   \n",
       "3  va la gente y se rasga las vestiduras con caót...   \n",
       "4  mariano ozoresduración  minutosestreno  de dic...   \n",
       "\n",
       "                                          lemmatized  label  \n",
       "0  necesario coraje abordar acontecimiento recien...      1  \n",
       "1  esperar curiosidad y gana estreno antonio band...      0  \n",
       "2  wes cravir convertido factoría volver a contar...      0  \n",
       "3  gente y rasgar vestidura caótico án julio mede...      0  \n",
       "4  mariano ozoresduración   minutosestreno   dici...      1  "
      ]
     },
     "execution_count": 4,
     "metadata": {},
     "output_type": "execute_result"
    }
   ],
   "source": [
    "df_dataset['label'] = df_dataset['score'].apply(lambda x: 1 if x == 'buena' else 0)\n",
    "df_dataset.head()"
   ]
  },
  {
   "cell_type": "markdown",
   "metadata": {},
   "source": [
    "## División del dataset en entrenamiento y test"
   ]
  },
  {
   "cell_type": "markdown",
   "metadata": {},
   "source": [
    "A continuación se define una función que divide el dataset en dos: uno para entrenamiento del modelo y otro para la evaluación del mismo"
   ]
  },
  {
   "cell_type": "code",
   "execution_count": 5,
   "metadata": {},
   "outputs": [],
   "source": [
    "from sklearn.model_selection import train_test_split\n",
    "\n",
    "X_train, X_test, y_train, y_test = train_test_split(df_dtm, df_dataset['label'], test_size=.25)"
   ]
  },
  {
   "cell_type": "code",
   "execution_count": 6,
   "metadata": {},
   "outputs": [],
   "source": [
    "import xgboost as xgb\n",
    "#Es de utilidad para XGBoost\n",
    "dtrain = xgb.DMatrix(X_train, label=y_train)\n",
    "dtest = xgb.DMatrix(X_test, label=y_test)"
   ]
  },
  {
   "cell_type": "markdown",
   "metadata": {},
   "source": [
    "## Entrenamiento del modelo XGBoost"
   ]
  },
  {
   "cell_type": "markdown",
   "metadata": {},
   "source": [
    "A continuación se entrena un clasificador basado en el algoritmo **XGBoost**. Se utilizará una técnica de GridSearch para buscar la mejor hiperparametrización"
   ]
  },
  {
   "cell_type": "code",
   "execution_count": 22,
   "metadata": {},
   "outputs": [],
   "source": [
    "params = {\n",
    "    # Parametros del modelo XGBoost para ajustar\n",
    "    'max_depth':6,\n",
    "    'min_child_weight': 4,\n",
    "    'eta':0.01,\n",
    "    'subsample': 0.8,\n",
    "    'colsample_bytree': 1,\n",
    "    # Other parameters\n",
    "    'objective':'binary:logistic',\n",
    "    'eval_metric': 'auc'\n",
    "}"
   ]
  },
  {
   "cell_type": "code",
   "execution_count": 23,
   "metadata": {},
   "outputs": [
    {
     "name": "stdout",
     "output_type": "stream",
     "text": [
      "[0]\tTest-auc:0.70994\n",
      "[1]\tTest-auc:0.72038\n"
     ]
    }
   ],
   "source": [
    "xg_clf = xgb.train(\n",
    "    params,\n",
    "    dtrain,\n",
    "    num_boost_round=2,\n",
    "    evals=[(dtest, \"Test\")],\n",
    "    early_stopping_rounds=10,\n",
    "    verbose_eval=10\n",
    ")"
   ]
  },
  {
   "cell_type": "code",
   "execution_count": 25,
   "metadata": {},
   "outputs": [],
   "source": [
    "y_pred = xg_clf.predict(dtest)"
   ]
  },
  {
   "cell_type": "code",
   "execution_count": 26,
   "metadata": {},
   "outputs": [
    {
     "data": {
      "text/plain": [
       "array([0.5022953 , 0.5061097 , 0.4982548 , 0.50454646], dtype=float32)"
      ]
     },
     "execution_count": 26,
     "metadata": {},
     "output_type": "execute_result"
    }
   ],
   "source": [
    "y_pred[:4]"
   ]
  },
  {
   "cell_type": "markdown",
   "metadata": {},
   "source": [
    "## Evaluación del modelo"
   ]
  },
  {
   "cell_type": "markdown",
   "metadata": {},
   "source": [
    "Se realiza una evaluación comparativa tomando como referencia el modelo *MLP* que fue el que mejor desempeño obtuvo entre los modelos de clasificación clásicos entrenados en la notebook **Clasificador Cliengo**"
   ]
  },
  {
   "cell_type": "code",
   "execution_count": 19,
   "metadata": {},
   "outputs": [
    {
     "data": {
      "text/plain": [
       "MLPClassifier(max_iter=100)"
      ]
     },
     "execution_count": 19,
     "metadata": {},
     "output_type": "execute_result"
    }
   ],
   "source": [
    "from sklearn.neural_network import MLPClassifier\n",
    "\n",
    "mlp_clf = MLPClassifier(max_iter=100)\n",
    "\n",
    "mlp_clf.fit(X_train, y_train)"
   ]
  },
  {
   "cell_type": "markdown",
   "metadata": {},
   "source": [
    "Se define un *wraper* para obtener un clasificador con *XGBoost* que sea compatible con las funciones de la librería *sklearn*"
   ]
  },
  {
   "cell_type": "code",
   "execution_count": 27,
   "metadata": {},
   "outputs": [
    {
     "name": "stderr",
     "output_type": "stream",
     "text": [
      "/opt/conda/lib/python3.6/site-packages/xgboost/sklearn.py:1146: UserWarning: The use of label encoder in XGBClassifier is deprecated and will be removed in a future release. To remove this warning, do the following: 1) Pass option use_label_encoder=False when constructing XGBClassifier object; and 2) Encode your labels (y) as integers starting with 0, i.e. 0, 1, 2, ..., [num_class - 1].\n",
      "  warnings.warn(label_encoder_deprecation_msg, UserWarning)\n"
     ]
    },
    {
     "name": "stdout",
     "output_type": "stream",
     "text": [
      "[16:18:19] WARNING: ../src/learner.cc:1095: Starting in XGBoost 1.3.0, the default evaluation metric used with the objective 'binary:logistic' was changed from 'error' to 'logloss'. Explicitly set eval_metric if you'd like to restore the old behavior.\n"
     ]
    },
    {
     "data": {
      "text/plain": [
       "XGBClassifier(alpha=10, base_score=0.5, booster='gbtree', colsample_bylevel=1,\n",
       "              colsample_bynode=1, colsample_bytree=0.3, gamma=0, gpu_id=-1,\n",
       "              importance_type='gain', interaction_constraints='',\n",
       "              learning_rate=0.1, max_delta_step=0, max_depth=6,\n",
       "              min_child_weight=1, missing=nan, monotone_constraints='()',\n",
       "              n_estimators=10, n_jobs=6, num_parallel_tree=1, random_state=0,\n",
       "              reg_alpha=10, reg_lambda=1, scale_pos_weight=1, subsample=1,\n",
       "              tree_method='exact', validate_parameters=1, verbosity=None)"
      ]
     },
     "execution_count": 27,
     "metadata": {},
     "output_type": "execute_result"
    }
   ],
   "source": [
    "clf = xgb.XGBClassifier(colsample_bytree = 0.3, learning_rate = 0.1, max_depth = 6, alpha = 10, n_estimators = 10)\n",
    "clf.fit(X_train, y_train)"
   ]
  },
  {
   "cell_type": "code",
   "execution_count": 20,
   "metadata": {},
   "outputs": [],
   "source": [
    "from sklearn.metrics import roc_curve, roc_auc_score\n",
    "from sklearn.metrics import plot_roc_curve, plot_precision_recall_curve\n",
    "import matplotlib.pyplot as plt\n",
    "\n",
    "def get_plots(names, classifiers, axs, X_test, y_test, tipo_dataset ):\n",
    "    \n",
    "    for name, clf in zip(names, classifiers):\n",
    "\n",
    "        plot_roc_curve(clf, X_test, y_test, ax=axs[0], name=name)\n",
    "        plot_precision_recall_curve(clf, X_test, y_test, ax=axs[1], name=name)\n",
    "        \n",
    "    axs[0].set_title('Curva ROC - ' + tipo_dataset)\n",
    "    axs[1].set_title('Curva de precision-recall - ' + tipo_dataset)"
   ]
  },
  {
   "cell_type": "code",
   "execution_count": 28,
   "metadata": {},
   "outputs": [
    {
     "data": {
      "image/png": "[encoded data removed]",
      "text/plain": [
       "<Figure size 1008x720 with 2 Axes>"
      ]
     },
     "metadata": {
      "needs_background": "light"
     },
     "output_type": "display_data"
    }
   ],
   "source": [
    "\n",
    "names = ['XGBoost', 'MLP']\n",
    "classifiers = [clf, mlp_clf]\n",
    "# Defino los graficos a mostrar\n",
    "fig, ax = plt.subplots(2, 1, figsize=(14, 10))\n",
    "#Calculo la curva para los modelos entrenados con el dataset balanceado\n",
    "get_plots(names, classifiers, ax, X_test, y_test, 'Dataset Balanceado')\n",
    "\n",
    "fig.tight_layout()\n",
    "\n",
    "plt.show() "
   ]
  },
  {
   "cell_type": "markdown",
   "metadata": {},
   "source": [
    "A priori, se observa que el modelo entrenado con el algoritmo de *XGBoost* esta por debajo del modelo *MLP* (alrededor de 10%). Como se dijo anteriormente, el modelo de *XGBoost* puede ser mejorado realizando un ajuste de sus parámetros.\n",
    "\n",
    "Sin embargo, lo interesante en este caso es poder utilizar el modelo de *XGBoost* junto con la librería **SHAP** con el fin de poder comprender mejor las estructuras de las *reviews*"
   ]
  },
  {
   "cell_type": "markdown",
   "metadata": {},
   "source": [
    "## Análisis de los *features* utilizados por el modelo"
   ]
  },
  {
   "cell_type": "markdown",
   "metadata": {},
   "source": [
    "A continuación se realiza un análisis de los ***features*** utilizados por el modelo entrenado con *XGBoost*. Este análisis va en la misma línea que el realizado en la notebook **EDA dataset cliengo** y permite comprender cuáles son las ***features*** que distinguen las *reviews* **buenas** de las **malas**"
   ]
  },
  {
   "cell_type": "code",
   "execution_count": 29,
   "metadata": {},
   "outputs": [],
   "source": [
    "import graphviz\n",
    "import shap\n",
    "\n",
    "#Path for using shap library\n",
    "model_bytearray = xg_clf.save_raw()[4:]\n",
    "def myfun(self=None):\n",
    "    return model_bytearray\n",
    "\n",
    "xg_clf.save_raw = myfun"
   ]
  },
  {
   "cell_type": "code",
   "execution_count": 30,
   "metadata": {},
   "outputs": [],
   "source": [
    "explainer = shap.TreeExplainer(xg_clf)"
   ]
  },
  {
   "cell_type": "code",
   "execution_count": 31,
   "metadata": {},
   "outputs": [
    {
     "data": {
      "text/plain": [
       "6.519258e-09"
      ]
     },
     "execution_count": 31,
     "metadata": {},
     "output_type": "execute_result"
    }
   ],
   "source": [
    "pred = xg_clf.predict(dtest, output_margin=True)\n",
    "explainer = shap.TreeExplainer(xg_clf)\n",
    "shap_values = explainer.shap_values(dtest)\n",
    "np.abs(shap_values.sum(1) + explainer.expected_value - pred).max()"
   ]
  },
  {
   "cell_type": "code",
   "execution_count": 33,
   "metadata": {},
   "outputs": [
    {
     "data": {
      "image/png": "[encoded data removed]",
      "text/plain": [
       "<Figure size 576x684 with 1 Axes>"
      ]
     },
     "metadata": {
      "needs_background": "light"
     },
     "output_type": "display_data"
    }
   ],
   "source": [
    "shap.summary_plot(shap_values, X_test, plot_type='bar')"
   ]
  },
  {
   "cell_type": "code",
   "execution_count": 34,
   "metadata": {},
   "outputs": [
    {
     "data": {
      "image/png": "[encoded data removed]",
      "text/plain": [
       "<Figure size 576x684 with 2 Axes>"
      ]
     },
     "metadata": {
      "needs_background": "light"
     },
     "output_type": "display_data"
    }
   ],
   "source": [
    "shap.summary_plot(shap_values, X_test)"
   ]
  },
  {
   "cell_type": "markdown",
   "metadata": {},
   "source": [
    "En ambos gráficos se puede observar el peso que le otorga a determinadas palabras el modelo para clasificar una *review*.\n",
    "\n",
    "Las palabras **obra, mejor, mundo, maginifico, perfecto, maestro, genial** son indicios de que se tratan *reviews* **buenas**. \n",
    "\n",
    "Mientras que las palabras **malo, salir, niño** son indicios de que se tratan *reviews* **malas**.\n",
    "\n",
    "Si se mira el análisis exploratorio realizado en la notebook **EDA dataset cliengo**, se verá que algunas de estás palabras ya aparecían como indicadores para discriminar a las *reviews*."
   ]
  }
 ],
 "metadata": {
  "kernelspec": {
   "display_name": "Python 3",
   "language": "python",
   "name": "python3"
  },
  "language_info": {
   "codemirror_mode": {
    "name": "ipython",
    "version": 3
   },
   "file_extension": ".py",
   "mimetype": "text/x-python",
   "name": "python",
   "nbconvert_exporter": "python",
   "pygments_lexer": "ipython3",
   "version": "3.6.8"
  }
 },
 "nbformat": 4,
 "nbformat_minor": 2
}

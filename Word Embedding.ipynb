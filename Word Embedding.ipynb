{
 "cells": [
  {
   "cell_type": "markdown",
   "metadata": {},
   "source": [
    "## Modelo simple utilizando Word Embedding y LSTM"
   ]
  },
  {
   "cell_type": "markdown",
   "metadata": {},
   "source": [
    "Esta notebook presenta un modelo sencillo de **Deep Neural Network** que tiene como una capa que utiliza un *corpus* de ***word embeddings*** pre-entrenados y otra capa denominada **LSTM** que son muy utilizada en el área de **NLP**.\n",
    "\n",
    "Si bien, se trata de un dataset pequeño, resulta interesante ver como se comporta dicho modelo."
   ]
  },
  {
   "cell_type": "code",
   "execution_count": 2,
   "metadata": {},
   "outputs": [],
   "source": [
    "import numpy as np\n",
    "import tensorflow as tf\n",
    "from tensorflow.keras.preprocessing import sequence\n",
    "from tensorflow.keras.models import Sequential\n",
    "from tensorflow.keras.layers import Dense, Embedding, LSTM\n",
    "from tensorflow.keras.utils import to_categorical\n",
    "from gensim.test.utils import common_texts, get_tmpfile\n",
    "from gensim.models import Word2Vec, KeyedVectors\n",
    "import gensim"
   ]
  },
  {
   "cell_type": "markdown",
   "metadata": {},
   "source": [
    "## Lectura de los datos"
   ]
  },
  {
   "cell_type": "code",
   "execution_count": 4,
   "metadata": {},
   "outputs": [
    {
     "data": {
      "text/html": [
       "<div>\n",
       "<style scoped>\n",
       "    .dataframe tbody tr th:only-of-type {\n",
       "        vertical-align: middle;\n",
       "    }\n",
       "\n",
       "    .dataframe tbody tr th {\n",
       "        vertical-align: top;\n",
       "    }\n",
       "\n",
       "    .dataframe thead th {\n",
       "        text-align: right;\n",
       "    }\n",
       "</style>\n",
       "<table border=\"1\" class=\"dataframe\">\n",
       "  <thead>\n",
       "    <tr style=\"text-align: right;\">\n",
       "      <th></th>\n",
       "      <th>review</th>\n",
       "      <th>score</th>\n",
       "      <th>review cleaned</th>\n",
       "      <th>reviews_length</th>\n",
       "      <th>number_of_words</th>\n",
       "      <th>reviews_avg_length</th>\n",
       "      <th>review cleaned stopwords</th>\n",
       "      <th>lemmatized</th>\n",
       "    </tr>\n",
       "  </thead>\n",
       "  <tbody>\n",
       "    <tr>\n",
       "      <th>0</th>\n",
       "      <td>Era necesario mucho coraje para abordar aconte...</td>\n",
       "      <td>buena</td>\n",
       "      <td>era necesario mucho coraje para abordar aconte...</td>\n",
       "      <td>3812</td>\n",
       "      <td>649</td>\n",
       "      <td>4.873652</td>\n",
       "      <td>era necesario mucho coraje para abordar aconte...</td>\n",
       "      <td>necesario coraje abordar acontecimiento recien...</td>\n",
       "    </tr>\n",
       "    <tr>\n",
       "      <th>1</th>\n",
       "      <td>Esperaba con curiosidad y ciertas ganas el est...</td>\n",
       "      <td>mala</td>\n",
       "      <td>esperaba con curiosidad y ciertas ganas el est...</td>\n",
       "      <td>2259</td>\n",
       "      <td>405</td>\n",
       "      <td>4.577778</td>\n",
       "      <td>esperaba con curiosidad y ciertas ganas el est...</td>\n",
       "      <td>esperar curiosidad y gana estreno antonio band...</td>\n",
       "    </tr>\n",
       "    <tr>\n",
       "      <th>2</th>\n",
       "      <td>Wes Craven, convertido en factoría, nos vuelve...</td>\n",
       "      <td>mala</td>\n",
       "      <td>wes craven convertido en factoría nos vuelve a...</td>\n",
       "      <td>1816</td>\n",
       "      <td>317</td>\n",
       "      <td>4.728707</td>\n",
       "      <td>wes craven convertido en factoría nos vuelve a...</td>\n",
       "      <td>wes cravir convertido factoría volver a contar...</td>\n",
       "    </tr>\n",
       "    <tr>\n",
       "      <th>3</th>\n",
       "      <td>Va la gente y se rasga las vestiduras con 'Caó...</td>\n",
       "      <td>mala</td>\n",
       "      <td>va la gente y se rasga las vestiduras con caót...</td>\n",
       "      <td>3598</td>\n",
       "      <td>624</td>\n",
       "      <td>4.766026</td>\n",
       "      <td>va la gente y se rasga las vestiduras con caót...</td>\n",
       "      <td>gente y rasgar vestidura caótico án julio mede...</td>\n",
       "    </tr>\n",
       "    <tr>\n",
       "      <th>4</th>\n",
       "      <td>Director: Mariano Ozores.Duración: 77 minutos....</td>\n",
       "      <td>buena</td>\n",
       "      <td>director mariano ozoresduración 77 minutosestr...</td>\n",
       "      <td>2271</td>\n",
       "      <td>395</td>\n",
       "      <td>4.749367</td>\n",
       "      <td>mariano ozoresduración  minutosestreno  de dic...</td>\n",
       "      <td>mariano ozoresduración   minutosestreno   dici...</td>\n",
       "    </tr>\n",
       "  </tbody>\n",
       "</table>\n",
       "</div>"
      ],
      "text/plain": [
       "                                              review  score  \\\n",
       "0  Era necesario mucho coraje para abordar aconte...  buena   \n",
       "1  Esperaba con curiosidad y ciertas ganas el est...   mala   \n",
       "2  Wes Craven, convertido en factoría, nos vuelve...   mala   \n",
       "3  Va la gente y se rasga las vestiduras con 'Caó...   mala   \n",
       "4  Director: Mariano Ozores.Duración: 77 minutos....  buena   \n",
       "\n",
       "                                      review cleaned  reviews_length  \\\n",
       "0  era necesario mucho coraje para abordar aconte...            3812   \n",
       "1  esperaba con curiosidad y ciertas ganas el est...            2259   \n",
       "2  wes craven convertido en factoría nos vuelve a...            1816   \n",
       "3  va la gente y se rasga las vestiduras con caót...            3598   \n",
       "4  director mariano ozoresduración 77 minutosestr...            2271   \n",
       "\n",
       "   number_of_words  reviews_avg_length  \\\n",
       "0              649            4.873652   \n",
       "1              405            4.577778   \n",
       "2              317            4.728707   \n",
       "3              624            4.766026   \n",
       "4              395            4.749367   \n",
       "\n",
       "                            review cleaned stopwords  \\\n",
       "0  era necesario mucho coraje para abordar aconte...   \n",
       "1  esperaba con curiosidad y ciertas ganas el est...   \n",
       "2  wes craven convertido en factoría nos vuelve a...   \n",
       "3  va la gente y se rasga las vestiduras con caót...   \n",
       "4  mariano ozoresduración  minutosestreno  de dic...   \n",
       "\n",
       "                                          lemmatized  \n",
       "0  necesario coraje abordar acontecimiento recien...  \n",
       "1  esperar curiosidad y gana estreno antonio band...  \n",
       "2  wes cravir convertido factoría volver a contar...  \n",
       "3  gente y rasgar vestidura caótico án julio mede...  \n",
       "4  mariano ozoresduración   minutosestreno   dici...  "
      ]
     },
     "execution_count": 4,
     "metadata": {},
     "output_type": "execute_result"
    }
   ],
   "source": [
    "import pandas as pd\n",
    "\n",
    "df_train = pd.read_csv('training_data_preprocessed.csv')\n",
    "df_train.head()"
   ]
  },
  {
   "cell_type": "markdown",
   "metadata": {},
   "source": [
    "**Max len**"
   ]
  },
  {
   "cell_type": "code",
   "execution_count": 5,
   "metadata": {},
   "outputs": [
    {
     "data": {
      "text/html": [
       "<div>\n",
       "<style scoped>\n",
       "    .dataframe tbody tr th:only-of-type {\n",
       "        vertical-align: middle;\n",
       "    }\n",
       "\n",
       "    .dataframe tbody tr th {\n",
       "        vertical-align: top;\n",
       "    }\n",
       "\n",
       "    .dataframe thead th {\n",
       "        text-align: right;\n",
       "    }\n",
       "</style>\n",
       "<table border=\"1\" class=\"dataframe\">\n",
       "  <thead>\n",
       "    <tr style=\"text-align: right;\">\n",
       "      <th></th>\n",
       "      <th>review</th>\n",
       "      <th>score</th>\n",
       "      <th>review cleaned</th>\n",
       "      <th>reviews_length</th>\n",
       "      <th>number_of_words</th>\n",
       "      <th>reviews_avg_length</th>\n",
       "      <th>review cleaned stopwords</th>\n",
       "      <th>lemmatized</th>\n",
       "      <th>len reviews</th>\n",
       "    </tr>\n",
       "  </thead>\n",
       "  <tbody>\n",
       "    <tr>\n",
       "      <th>0</th>\n",
       "      <td>Era necesario mucho coraje para abordar aconte...</td>\n",
       "      <td>buena</td>\n",
       "      <td>era necesario mucho coraje para abordar aconte...</td>\n",
       "      <td>3812</td>\n",
       "      <td>649</td>\n",
       "      <td>4.873652</td>\n",
       "      <td>era necesario mucho coraje para abordar aconte...</td>\n",
       "      <td>necesario coraje abordar acontecimiento recien...</td>\n",
       "      <td>606</td>\n",
       "    </tr>\n",
       "    <tr>\n",
       "      <th>1</th>\n",
       "      <td>Esperaba con curiosidad y ciertas ganas el est...</td>\n",
       "      <td>mala</td>\n",
       "      <td>esperaba con curiosidad y ciertas ganas el est...</td>\n",
       "      <td>2259</td>\n",
       "      <td>405</td>\n",
       "      <td>4.577778</td>\n",
       "      <td>esperaba con curiosidad y ciertas ganas el est...</td>\n",
       "      <td>esperar curiosidad y gana estreno antonio band...</td>\n",
       "      <td>379</td>\n",
       "    </tr>\n",
       "    <tr>\n",
       "      <th>2</th>\n",
       "      <td>Wes Craven, convertido en factoría, nos vuelve...</td>\n",
       "      <td>mala</td>\n",
       "      <td>wes craven convertido en factoría nos vuelve a...</td>\n",
       "      <td>1816</td>\n",
       "      <td>317</td>\n",
       "      <td>4.728707</td>\n",
       "      <td>wes craven convertido en factoría nos vuelve a...</td>\n",
       "      <td>wes cravir convertido factoría volver a contar...</td>\n",
       "      <td>307</td>\n",
       "    </tr>\n",
       "    <tr>\n",
       "      <th>3</th>\n",
       "      <td>Va la gente y se rasga las vestiduras con 'Caó...</td>\n",
       "      <td>mala</td>\n",
       "      <td>va la gente y se rasga las vestiduras con caót...</td>\n",
       "      <td>3598</td>\n",
       "      <td>624</td>\n",
       "      <td>4.766026</td>\n",
       "      <td>va la gente y se rasga las vestiduras con caót...</td>\n",
       "      <td>gente y rasgar vestidura caótico án julio mede...</td>\n",
       "      <td>601</td>\n",
       "    </tr>\n",
       "    <tr>\n",
       "      <th>4</th>\n",
       "      <td>Director: Mariano Ozores.Duración: 77 minutos....</td>\n",
       "      <td>buena</td>\n",
       "      <td>director mariano ozoresduración 77 minutosestr...</td>\n",
       "      <td>2271</td>\n",
       "      <td>395</td>\n",
       "      <td>4.749367</td>\n",
       "      <td>mariano ozoresduración  minutosestreno  de dic...</td>\n",
       "      <td>mariano ozoresduración   minutosestreno   dici...</td>\n",
       "      <td>369</td>\n",
       "    </tr>\n",
       "  </tbody>\n",
       "</table>\n",
       "</div>"
      ],
      "text/plain": [
       "                                              review  score  \\\n",
       "0  Era necesario mucho coraje para abordar aconte...  buena   \n",
       "1  Esperaba con curiosidad y ciertas ganas el est...   mala   \n",
       "2  Wes Craven, convertido en factoría, nos vuelve...   mala   \n",
       "3  Va la gente y se rasga las vestiduras con 'Caó...   mala   \n",
       "4  Director: Mariano Ozores.Duración: 77 minutos....  buena   \n",
       "\n",
       "                                      review cleaned  reviews_length  \\\n",
       "0  era necesario mucho coraje para abordar aconte...            3812   \n",
       "1  esperaba con curiosidad y ciertas ganas el est...            2259   \n",
       "2  wes craven convertido en factoría nos vuelve a...            1816   \n",
       "3  va la gente y se rasga las vestiduras con caót...            3598   \n",
       "4  director mariano ozoresduración 77 minutosestr...            2271   \n",
       "\n",
       "   number_of_words  reviews_avg_length  \\\n",
       "0              649            4.873652   \n",
       "1              405            4.577778   \n",
       "2              317            4.728707   \n",
       "3              624            4.766026   \n",
       "4              395            4.749367   \n",
       "\n",
       "                            review cleaned stopwords  \\\n",
       "0  era necesario mucho coraje para abordar aconte...   \n",
       "1  esperaba con curiosidad y ciertas ganas el est...   \n",
       "2  wes craven convertido en factoría nos vuelve a...   \n",
       "3  va la gente y se rasga las vestiduras con caót...   \n",
       "4  mariano ozoresduración  minutosestreno  de dic...   \n",
       "\n",
       "                                          lemmatized  len reviews  \n",
       "0  necesario coraje abordar acontecimiento recien...          606  \n",
       "1  esperar curiosidad y gana estreno antonio band...          379  \n",
       "2  wes cravir convertido factoría volver a contar...          307  \n",
       "3  gente y rasgar vestidura caótico án julio mede...          601  \n",
       "4  mariano ozoresduración   minutosestreno   dici...          369  "
      ]
     },
     "execution_count": 5,
     "metadata": {},
     "output_type": "execute_result"
    }
   ],
   "source": [
    "reviews = df_train['review cleaned stopwords']\n",
    "reviews_split = reviews.str.split()\n",
    "len_reviews = reviews_split.apply(lambda x : len(x))\n",
    "df_train['len reviews'] = len_reviews\n",
    "df_train.head()"
   ]
  },
  {
   "cell_type": "markdown",
   "metadata": {},
   "source": [
    "**Encode categories**"
   ]
  },
  {
   "cell_type": "code",
   "execution_count": 6,
   "metadata": {},
   "outputs": [
    {
     "data": {
      "text/html": [
       "<div>\n",
       "<style scoped>\n",
       "    .dataframe tbody tr th:only-of-type {\n",
       "        vertical-align: middle;\n",
       "    }\n",
       "\n",
       "    .dataframe tbody tr th {\n",
       "        vertical-align: top;\n",
       "    }\n",
       "\n",
       "    .dataframe thead th {\n",
       "        text-align: right;\n",
       "    }\n",
       "</style>\n",
       "<table border=\"1\" class=\"dataframe\">\n",
       "  <thead>\n",
       "    <tr style=\"text-align: right;\">\n",
       "      <th></th>\n",
       "      <th>review</th>\n",
       "      <th>score</th>\n",
       "      <th>review cleaned</th>\n",
       "      <th>reviews_length</th>\n",
       "      <th>number_of_words</th>\n",
       "      <th>reviews_avg_length</th>\n",
       "      <th>review cleaned stopwords</th>\n",
       "      <th>lemmatized</th>\n",
       "      <th>len reviews</th>\n",
       "      <th>label</th>\n",
       "    </tr>\n",
       "  </thead>\n",
       "  <tbody>\n",
       "    <tr>\n",
       "      <th>0</th>\n",
       "      <td>Era necesario mucho coraje para abordar aconte...</td>\n",
       "      <td>buena</td>\n",
       "      <td>era necesario mucho coraje para abordar aconte...</td>\n",
       "      <td>3812</td>\n",
       "      <td>649</td>\n",
       "      <td>4.873652</td>\n",
       "      <td>era necesario mucho coraje para abordar aconte...</td>\n",
       "      <td>necesario coraje abordar acontecimiento recien...</td>\n",
       "      <td>606</td>\n",
       "      <td>0</td>\n",
       "    </tr>\n",
       "    <tr>\n",
       "      <th>1</th>\n",
       "      <td>Esperaba con curiosidad y ciertas ganas el est...</td>\n",
       "      <td>mala</td>\n",
       "      <td>esperaba con curiosidad y ciertas ganas el est...</td>\n",
       "      <td>2259</td>\n",
       "      <td>405</td>\n",
       "      <td>4.577778</td>\n",
       "      <td>esperaba con curiosidad y ciertas ganas el est...</td>\n",
       "      <td>esperar curiosidad y gana estreno antonio band...</td>\n",
       "      <td>379</td>\n",
       "      <td>1</td>\n",
       "    </tr>\n",
       "    <tr>\n",
       "      <th>2</th>\n",
       "      <td>Wes Craven, convertido en factoría, nos vuelve...</td>\n",
       "      <td>mala</td>\n",
       "      <td>wes craven convertido en factoría nos vuelve a...</td>\n",
       "      <td>1816</td>\n",
       "      <td>317</td>\n",
       "      <td>4.728707</td>\n",
       "      <td>wes craven convertido en factoría nos vuelve a...</td>\n",
       "      <td>wes cravir convertido factoría volver a contar...</td>\n",
       "      <td>307</td>\n",
       "      <td>1</td>\n",
       "    </tr>\n",
       "    <tr>\n",
       "      <th>3</th>\n",
       "      <td>Va la gente y se rasga las vestiduras con 'Caó...</td>\n",
       "      <td>mala</td>\n",
       "      <td>va la gente y se rasga las vestiduras con caót...</td>\n",
       "      <td>3598</td>\n",
       "      <td>624</td>\n",
       "      <td>4.766026</td>\n",
       "      <td>va la gente y se rasga las vestiduras con caót...</td>\n",
       "      <td>gente y rasgar vestidura caótico án julio mede...</td>\n",
       "      <td>601</td>\n",
       "      <td>1</td>\n",
       "    </tr>\n",
       "    <tr>\n",
       "      <th>4</th>\n",
       "      <td>Director: Mariano Ozores.Duración: 77 minutos....</td>\n",
       "      <td>buena</td>\n",
       "      <td>director mariano ozoresduración 77 minutosestr...</td>\n",
       "      <td>2271</td>\n",
       "      <td>395</td>\n",
       "      <td>4.749367</td>\n",
       "      <td>mariano ozoresduración  minutosestreno  de dic...</td>\n",
       "      <td>mariano ozoresduración   minutosestreno   dici...</td>\n",
       "      <td>369</td>\n",
       "      <td>0</td>\n",
       "    </tr>\n",
       "  </tbody>\n",
       "</table>\n",
       "</div>"
      ],
      "text/plain": [
       "                                              review  score  \\\n",
       "0  Era necesario mucho coraje para abordar aconte...  buena   \n",
       "1  Esperaba con curiosidad y ciertas ganas el est...   mala   \n",
       "2  Wes Craven, convertido en factoría, nos vuelve...   mala   \n",
       "3  Va la gente y se rasga las vestiduras con 'Caó...   mala   \n",
       "4  Director: Mariano Ozores.Duración: 77 minutos....  buena   \n",
       "\n",
       "                                      review cleaned  reviews_length  \\\n",
       "0  era necesario mucho coraje para abordar aconte...            3812   \n",
       "1  esperaba con curiosidad y ciertas ganas el est...            2259   \n",
       "2  wes craven convertido en factoría nos vuelve a...            1816   \n",
       "3  va la gente y se rasga las vestiduras con caót...            3598   \n",
       "4  director mariano ozoresduración 77 minutosestr...            2271   \n",
       "\n",
       "   number_of_words  reviews_avg_length  \\\n",
       "0              649            4.873652   \n",
       "1              405            4.577778   \n",
       "2              317            4.728707   \n",
       "3              624            4.766026   \n",
       "4              395            4.749367   \n",
       "\n",
       "                            review cleaned stopwords  \\\n",
       "0  era necesario mucho coraje para abordar aconte...   \n",
       "1  esperaba con curiosidad y ciertas ganas el est...   \n",
       "2  wes craven convertido en factoría nos vuelve a...   \n",
       "3  va la gente y se rasga las vestiduras con caót...   \n",
       "4  mariano ozoresduración  minutosestreno  de dic...   \n",
       "\n",
       "                                          lemmatized  len reviews  label  \n",
       "0  necesario coraje abordar acontecimiento recien...          606      0  \n",
       "1  esperar curiosidad y gana estreno antonio band...          379      1  \n",
       "2  wes cravir convertido factoría volver a contar...          307      1  \n",
       "3  gente y rasgar vestidura caótico án julio mede...          601      1  \n",
       "4  mariano ozoresduración   minutosestreno   dici...          369      0  "
      ]
     },
     "execution_count": 6,
     "metadata": {},
     "output_type": "execute_result"
    }
   ],
   "source": [
    "from sklearn.preprocessing import LabelEncoder\n",
    "\n",
    "lb_category = LabelEncoder()\n",
    "df_train['label'] = lb_category.fit_transform(df_train['score'])\n",
    "df_train.head()"
   ]
  },
  {
   "cell_type": "code",
   "execution_count": 7,
   "metadata": {},
   "outputs": [
    {
     "data": {
      "text/plain": [
       "2"
      ]
     },
     "execution_count": 7,
     "metadata": {},
     "output_type": "execute_result"
    }
   ],
   "source": [
    "X = df_train['review cleaned stopwords'].values\n",
    "y = df_train['label']\n",
    "classes = df_train['label'].unique().shape[0]\n",
    "maxLen = df_train['len reviews'].max() + 1\n",
    "classes"
   ]
  },
  {
   "cell_type": "markdown",
   "metadata": {},
   "source": [
    "**Generación del dataset de entrenamiento y de test**"
   ]
  },
  {
   "cell_type": "code",
   "execution_count": 25,
   "metadata": {},
   "outputs": [],
   "source": [
    "from sklearn.model_selection import train_test_split\n",
    "\n",
    "X_train, X_test, y_train, y_test = train_test_split(X, y, test_size=.25)"
   ]
  },
  {
   "cell_type": "markdown",
   "metadata": {},
   "source": [
    "## Lectura del embeddings pre-entrenados"
   ]
  },
  {
   "cell_type": "markdown",
   "metadata": {},
   "source": [
    "Este modelo utiliza un modelo de ***word embeddings*** pre-entrenados que puede ser descargado aquí: https://www.kaggle.com/rtatman/pretrained-word-vectors-for-spanish"
   ]
  },
  {
   "cell_type": "code",
   "execution_count": 8,
   "metadata": {},
   "outputs": [],
   "source": [
    "word2vect_model = KeyedVectors.load_word2vec_format('./word_embedding_pre_trained/SBW-vectors-300-min5.txt', binary=False)"
   ]
  },
  {
   "cell_type": "code",
   "execution_count": 12,
   "metadata": {},
   "outputs": [],
   "source": [
    "vocab = list(word2vect_model.vocab.keys())"
   ]
  },
  {
   "cell_type": "code",
   "execution_count": 10,
   "metadata": {},
   "outputs": [
    {
     "data": {
      "text/plain": [
       "300"
      ]
     },
     "execution_count": 10,
     "metadata": {},
     "output_type": "execute_result"
    }
   ],
   "source": [
    "word2vect_model.vector_size"
   ]
  },
  {
   "cell_type": "markdown",
   "metadata": {},
   "source": [
    "## Definición de la arquitectura de la Red Neuronal"
   ]
  },
  {
   "cell_type": "markdown",
   "metadata": {},
   "source": [
    "Aquí se define la arquitectura de la Red Neuronal. Se trata de una arquitectura sencilla, con una capa que utiliza ***word embeddings*** pre-entrenados y una capa **LSTM**. "
   ]
  },
  {
   "cell_type": "code",
   "execution_count": 20,
   "metadata": {},
   "outputs": [],
   "source": [
    "def sentences_to_indices(X, vocab, max_len):\n",
    "    \"\"\"\n",
    "    Converts an array of sentences (strings) into an array of indices corresponding to words in the sentences.\n",
    "    The output shape should be such that it can be given to `Embedding()`  \n",
    "    \n",
    "    Arguments:\n",
    "    X -- array of sentences (strings), of shape (m, 1)\n",
    "    word_to_index -- a dictionary containing the each word mapped to its index\n",
    "    max_len -- maximum number of words in a sentence. You can assume every sentence in X is no longer than this. \n",
    "    \n",
    "    Returns:\n",
    "    X_indices -- array of indices corresponding to words in the sentences from X, of shape (m, max_len)\n",
    "    \"\"\"\n",
    "    \n",
    "    m = X.shape[0]                                   # number of training examples\n",
    "    # Initialize X_indices as a numpy matrix of zeros and the correct shape\n",
    "    X_indices = np.zeros((m, max_len))\n",
    "    \n",
    "    for i in range(m):                               # loop over training examples\n",
    "        \n",
    "        # Convert the ith training sentence in lower case and split is into words. You should get a list of words.\n",
    "        sentence_words = X[i].lower().split()\n",
    "        \n",
    "        # Initialize j to 0\n",
    "        j = 0\n",
    "        \n",
    "        # Loop over the words of sentence_words\n",
    "        for w in sentence_words:\n",
    "            # Set the (i,j)th entry of X_indices to the index of the correct word.\n",
    "            if w in vocab:\n",
    "                X_indices[i, j] = vocab.index(w)\n",
    "            # Increment j to j + 1\n",
    "            j = j+1\n",
    "    \n",
    "    return X_indices"
   ]
  },
  {
   "cell_type": "code",
   "execution_count": 21,
   "metadata": {},
   "outputs": [],
   "source": [
    "def pretrained_embedding_layer(word2vect_model, vocab, maxLen):\n",
    "    \"\"\"\n",
    "    Creates a Keras Embedding() layer and loads in pre-trained 300-dimensional vectors.\n",
    "    \n",
    "    Arguments:\n",
    "    word_to_vec_map -- dictionary mapping words to their word embedding vector representation.\n",
    "    word_to_index -- dictionary mapping from words to their indices in the vocabulary\n",
    "\n",
    "    Returns:\n",
    "    embedding_layer -- pretrained layer Keras instance\n",
    "    \"\"\"\n",
    "    \n",
    "    vocab_len = len(vocab) + 1                  # adding 1 to fit Keras embedding (requirement)\n",
    "    emb_dim = word2vect_model.vector_size      # define dimensionality of your GloVe word vectors\n",
    "    \n",
    "    # Initialize the embedding matrix as a numpy array of zeros of shape\n",
    "    emb_matrix = np.zeros((vocab_len,emb_dim))\n",
    "    \n",
    "    # Set each row \"index\" of the embedding matrix to be the word vector representation of the \"index\"th word of the vocabulary\n",
    "    index = 0\n",
    "    for word in vocab:\n",
    "        emb_matrix[index, :] = word2vect_model.get_vector(word=word)\n",
    "        index +=1\n",
    "\n",
    "    # Define Keras embedding layer \n",
    "    embedding_layer = Embedding(input_dim=vocab_len, output_dim= emb_dim, trainable=False, input_length=maxLen)\n",
    "\n",
    "    # Build the embedding layer, it is required before setting the weights of the embedding layer.\n",
    "    embedding_layer.build((None,))\n",
    "    \n",
    "    # Set the weights of the embedding layer to the embedding matrix.\n",
    "    embedding_layer.set_weights([emb_matrix])\n",
    "    \n",
    "    return embedding_layer"
   ]
  },
  {
   "cell_type": "code",
   "execution_count": 22,
   "metadata": {},
   "outputs": [],
   "source": [
    "def get_model(input_shape, word2vect_model, vocab, classes):\n",
    "    \"\"\"\n",
    "    Function creating the Emojify-v2 model's graph.\n",
    "    \n",
    "    Arguments:\n",
    "    input_shape -- shape of the input, usually (max_len,)\n",
    "    word_to_vec_map -- dictionary mapping every word in a vocabulary into its 50-dimensional vector representation\n",
    "    word_to_index -- dictionary mapping from words to their indices in the vocabulary (400,001 words)\n",
    "\n",
    "    Returns:\n",
    "    model -- a model instance in Keras\n",
    "    \"\"\"\n",
    "    \n",
    "    model = Sequential()\n",
    "    #model.add(Input(shape=input_shape, dtype='int32'))\n",
    "    embedding_layer = pretrained_embedding_layer(word2vect_model, vocab, input_shape[0])\n",
    "    model.add(embedding_layer)\n",
    "    model.add(LSTM(128, dropout=0.2, recurrent_dropout=0.2))\n",
    "    #model.add(LSTM(128, dropout=0.2, recurrent_dropout=0.2))\n",
    "    model.add(Dense(classes, activation='softmax'))\n",
    "    \n",
    "    return model"
   ]
  },
  {
   "cell_type": "code",
   "execution_count": 23,
   "metadata": {},
   "outputs": [
    {
     "name": "stdout",
     "output_type": "stream",
     "text": [
      "Model: \"sequential_1\"\n",
      "_________________________________________________________________\n",
      "Layer (type)                 Output Shape              Param #   \n",
      "=================================================================\n",
      "embedding_1 (Embedding)      (None, 4380, 300)         300196200 \n",
      "_________________________________________________________________\n",
      "lstm_1 (LSTM)                (None, 128)               219648    \n",
      "_________________________________________________________________\n",
      "dense_1 (Dense)              (None, 2)                 258       \n",
      "=================================================================\n",
      "Total params: 300,416,106\n",
      "Trainable params: 219,906\n",
      "Non-trainable params: 300,196,200\n",
      "_________________________________________________________________\n"
     ]
    }
   ],
   "source": [
    "model = get_model((maxLen,), word2vect_model, vocab, classes)\n",
    "model.summary()"
   ]
  },
  {
   "cell_type": "code",
   "execution_count": 24,
   "metadata": {},
   "outputs": [],
   "source": [
    "model.compile(loss='binary_crossentropy', optimizer='adam', metrics=['accuracy'])"
   ]
  },
  {
   "cell_type": "code",
   "execution_count": null,
   "metadata": {},
   "outputs": [],
   "source": [
    "X_train_indices = sentences_to_indices(X_train, vocab, maxLen)"
   ]
  },
  {
   "cell_type": "code",
   "execution_count": null,
   "metadata": {},
   "outputs": [],
   "source": [
    "one_hot_labels = to_categorical(y_train, num_classes=classes)"
   ]
  },
  {
   "cell_type": "code",
   "execution_count": null,
   "metadata": {},
   "outputs": [],
   "source": [
    "model.fit(X_train_indices, one_hot_labels, epochs = 10, batch_size = 32, shuffle=True)"
   ]
  }
 ],
 "metadata": {
  "kernelspec": {
   "display_name": "Python 3",
   "language": "python",
   "name": "python3"
  },
  "language_info": {
   "codemirror_mode": {
    "name": "ipython",
    "version": 3
   },
   "file_extension": ".py",
   "mimetype": "text/x-python",
   "name": "python",
   "nbconvert_exporter": "python",
   "pygments_lexer": "ipython3",
   "version": "3.5.2"
  }
 },
 "nbformat": 4,
 "nbformat_minor": 2
}
